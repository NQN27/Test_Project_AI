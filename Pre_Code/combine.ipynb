{
 "cells": [
  {
   "cell_type": "code",
   "execution_count": null,
   "metadata": {},
   "outputs": [],
   "source": [
    "from test_class import *\n",
    "from map_folium import *\n",
    "\n",
    "start = 'HaNoi'\n",
    "goal = 'DienBienPhu'\n",
    "\n",
    "answer = uniform_cost_search(encode(goal),encode(start))\n",
    "\n",
    "answer_a = A_star_search(encode(goal), encode(start))\n",
    "\n",
    "answer_a2 = A_star_search2(encode(goal), encode(start))\n",
    "\n",
    "\n",
    "if answer == None: #if dont have any solutions\n",
    "    print('no solution')\n",
    "else:\t\n",
    "    solution = answer[0]\n",
    "    path_u = answer[1]\n",
    "    print('ucs minimum cost from {} to {} is {}'.format(start,goal,solution))\n",
    "    print('path :')\n",
    "    for i in path_u:\n",
    "        print(i, end='->')\n",
    "    print('UCS* nodes opened: ',expanded_nodes_U)\n",
    "    print('total = ',sum(expanded_nodes_U.values()),' nodes')\n",
    "    print('UCS* number of routes : ',len(expanded_routes_U))\n",
    "print()\n",
    "if answer_a == None: #if dont have any solutions\n",
    "    print('no solution')\n",
    "\n",
    "else:\t\n",
    "    solution = answer_a[0]\n",
    "    path_a1 = answer_a[1]\n",
    "    print('a* minimum cost from {} to {} is {}'.format(start,goal,solution))\n",
    "    print('path :')\n",
    "    for i in path_a1:\n",
    "        print(i, end='->')        \n",
    "    print('A* nodes opened: ',expanded_nodes_A1)\n",
    "    print('total = ',sum(expanded_nodes_A1.values()),' nodes')\n",
    "    print('A* number of routes : ',len(expanded_routes_A1))\n",
    "print()\n",
    "\n",
    "if answer_a2 == None: #if dont have any solutions\n",
    "    print('no solution')\n",
    "\n",
    "else:\t\n",
    "    solution = answer_a2[0]\n",
    "    path_a2 = answer_a2[1]\n",
    "    print('a* 2 minimum cost from {} to {} is {}'.format(start,goal,solution))\n",
    "    print('path :')\n",
    "    for i in path_a2:\n",
    "        print(i, end='->')        \n",
    "    print('A* 2 nodes opened: ',expanded_nodes_A2)\n",
    "    print('total = ',sum(expanded_nodes_A2.values()),' nodes')\n",
    "    print('A* 2 number of routes : ',len(expanded_routes_A2))\n",
    "print()"
   ]
  },
  {
   "cell_type": "code",
   "execution_count": null,
   "metadata": {},
   "outputs": [],
   "source": [
    "dl = pd.read_excel('/Users/luong/OneDrive - Hanoi University of Science and Technology/project/Location.xlsx')\n",
    "loc_matrix = np.array(dl)\n",
    "\n",
    "START = [\"START\", 21.004355964700412, 105.84656236663436]\n",
    "END = ['ENDS', 21.38860789042951, 103.02419543965866]"
   ]
  },
  {
   "cell_type": "code",
   "execution_count": null,
   "metadata": {},
   "outputs": [],
   "source": [
    "draw_map(START, END, path_u, loc_matrix, expanded_nodes_U, expanded_routes_U,expanded_nodes_A1, expanded_routes_A1,expanded_nodes_A2, expanded_routes_A2)"
   ]
  }
 ],
 "metadata": {
  "kernelspec": {
   "display_name": "Python 3",
   "language": "python",
   "name": "python3"
  },
  "language_info": {
   "codemirror_mode": {
    "name": "ipython",
    "version": 3
   },
   "file_extension": ".py",
   "mimetype": "text/x-python",
   "name": "python",
   "nbconvert_exporter": "python",
   "pygments_lexer": "ipython3",
   "version": "3.10.5 (tags/v3.10.5:f377153, Jun  6 2022, 16:14:13) [MSC v.1929 64 bit (AMD64)]"
  },
  "orig_nbformat": 4,
  "vscode": {
   "interpreter": {
    "hash": "26de051ba29f2982a8de78e945f0abaf191376122a1563185a90213a26c5da77"
   }
  }
 },
 "nbformat": 4,
 "nbformat_minor": 2
}
